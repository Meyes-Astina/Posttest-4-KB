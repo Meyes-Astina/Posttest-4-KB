{
 "cells": [
  {
   "cell_type": "markdown",
   "id": "27a0b0ee-66a2-4cac-8419-89c6ccf0f36f",
   "metadata": {},
   "source": [
    "# POSTTEST 4"
   ]
  },
  {
   "cell_type": "markdown",
   "id": "60889934-129c-4a66-9845-63674a3f98fd",
   "metadata": {},
   "source": [
    "### Nama : Maya Agustina\n",
    "### NIM : 2209106005\n",
    "### Kelas : Informatika A 2022"
   ]
  },
  {
   "cell_type": "markdown",
   "id": "c8782c02-3cba-48d9-b495-69b8a89cc940",
   "metadata": {},
   "source": [
    "## Data Preprocessing"
   ]
  },
  {
   "cell_type": "code",
   "execution_count": 41,
   "id": "4195f45a-7c83-457a-ac1f-d7bcb47bef50",
   "metadata": {},
   "outputs": [],
   "source": [
    "from sklearn.impute import SimpleImputer\n",
    "from sklearn.model_selection import train_test_split\n",
    "from sklearn.preprocessing import MinMaxScaler\n",
    "from sklearn.preprocessing import StandardScaler\n",
    "from statistics import mode\n",
    "import pandas as pd\n",
    "import numpy as np"
   ]
  },
  {
   "cell_type": "code",
   "execution_count": 2,
   "id": "ba2eb8af-ba3c-4391-a068-a0e564570b7c",
   "metadata": {},
   "outputs": [
    {
     "data": {
      "text/html": [
       "<div>\n",
       "<style scoped>\n",
       "    .dataframe tbody tr th:only-of-type {\n",
       "        vertical-align: middle;\n",
       "    }\n",
       "\n",
       "    .dataframe tbody tr th {\n",
       "        vertical-align: top;\n",
       "    }\n",
       "\n",
       "    .dataframe thead th {\n",
       "        text-align: right;\n",
       "    }\n",
       "</style>\n",
       "<table border=\"1\" class=\"dataframe\">\n",
       "  <thead>\n",
       "    <tr style=\"text-align: right;\">\n",
       "      <th></th>\n",
       "      <th>carat</th>\n",
       "      <th>cut</th>\n",
       "      <th>color</th>\n",
       "      <th>clarity</th>\n",
       "      <th>depth</th>\n",
       "      <th>table</th>\n",
       "      <th>price</th>\n",
       "      <th>'x'</th>\n",
       "      <th>'y'</th>\n",
       "      <th>'z'</th>\n",
       "    </tr>\n",
       "  </thead>\n",
       "  <tbody>\n",
       "    <tr>\n",
       "      <th>0</th>\n",
       "      <td>0.23</td>\n",
       "      <td>b'Ideal'</td>\n",
       "      <td>b'E'</td>\n",
       "      <td>b'SI2'</td>\n",
       "      <td>61.5</td>\n",
       "      <td>55.0</td>\n",
       "      <td>326.0</td>\n",
       "      <td>3.95</td>\n",
       "      <td>3.98</td>\n",
       "      <td>2.43</td>\n",
       "    </tr>\n",
       "    <tr>\n",
       "      <th>1</th>\n",
       "      <td>0.21</td>\n",
       "      <td>b'Premium'</td>\n",
       "      <td>b'E'</td>\n",
       "      <td>b'SI1'</td>\n",
       "      <td>59.8</td>\n",
       "      <td>61.0</td>\n",
       "      <td>326.0</td>\n",
       "      <td>3.89</td>\n",
       "      <td>3.84</td>\n",
       "      <td>2.31</td>\n",
       "    </tr>\n",
       "    <tr>\n",
       "      <th>2</th>\n",
       "      <td>0.23</td>\n",
       "      <td>b'Good'</td>\n",
       "      <td>b'E'</td>\n",
       "      <td>b'VS1'</td>\n",
       "      <td>56.9</td>\n",
       "      <td>65.0</td>\n",
       "      <td>327.0</td>\n",
       "      <td>4.05</td>\n",
       "      <td>4.07</td>\n",
       "      <td>2.31</td>\n",
       "    </tr>\n",
       "    <tr>\n",
       "      <th>3</th>\n",
       "      <td>0.29</td>\n",
       "      <td>b'Premium'</td>\n",
       "      <td>b'I'</td>\n",
       "      <td>b'VS2'</td>\n",
       "      <td>62.4</td>\n",
       "      <td>58.0</td>\n",
       "      <td>334.0</td>\n",
       "      <td>4.20</td>\n",
       "      <td>4.23</td>\n",
       "      <td>2.63</td>\n",
       "    </tr>\n",
       "    <tr>\n",
       "      <th>4</th>\n",
       "      <td>0.31</td>\n",
       "      <td>b'Good'</td>\n",
       "      <td>b'J'</td>\n",
       "      <td>b'SI2'</td>\n",
       "      <td>63.3</td>\n",
       "      <td>58.0</td>\n",
       "      <td>335.0</td>\n",
       "      <td>4.34</td>\n",
       "      <td>4.35</td>\n",
       "      <td>2.75</td>\n",
       "    </tr>\n",
       "  </tbody>\n",
       "</table>\n",
       "</div>"
      ],
      "text/plain": [
       "   carat         cut color clarity  depth  table  price   'x'   'y'   'z'\n",
       "0   0.23    b'Ideal'  b'E'  b'SI2'   61.5   55.0  326.0  3.95  3.98  2.43\n",
       "1   0.21  b'Premium'  b'E'  b'SI1'   59.8   61.0  326.0  3.89  3.84  2.31\n",
       "2   0.23     b'Good'  b'E'  b'VS1'   56.9   65.0  327.0  4.05  4.07  2.31\n",
       "3   0.29  b'Premium'  b'I'  b'VS2'   62.4   58.0  334.0  4.20  4.23  2.63\n",
       "4   0.31     b'Good'  b'J'  b'SI2'   63.3   58.0  335.0  4.34  4.35  2.75"
      ]
     },
     "execution_count": 2,
     "metadata": {},
     "output_type": "execute_result"
    }
   ],
   "source": [
    "df = pd.read_csv('diamonds.csv')\n",
    "df.head()"
   ]
  },
  {
   "cell_type": "code",
   "execution_count": 3,
   "id": "3cf06492-4a11-4c37-87ad-e9bc81520ba1",
   "metadata": {},
   "outputs": [
    {
     "name": "stdout",
     "output_type": "stream",
     "text": [
      "<class 'pandas.core.frame.DataFrame'>\n",
      "RangeIndex: 53940 entries, 0 to 53939\n",
      "Data columns (total 10 columns):\n",
      " #   Column   Non-Null Count  Dtype  \n",
      "---  ------   --------------  -----  \n",
      " 0   carat    53940 non-null  float64\n",
      " 1   cut      53940 non-null  object \n",
      " 2   color    53940 non-null  object \n",
      " 3   clarity  53940 non-null  object \n",
      " 4   depth    53940 non-null  float64\n",
      " 5   table    53940 non-null  float64\n",
      " 6   price    53940 non-null  float64\n",
      " 7   'x'      53940 non-null  float64\n",
      " 8   'y'      53940 non-null  float64\n",
      " 9   'z'      53940 non-null  float64\n",
      "dtypes: float64(7), object(3)\n",
      "memory usage: 4.1+ MB\n"
     ]
    }
   ],
   "source": [
    "df.info()"
   ]
  },
  {
   "cell_type": "code",
   "execution_count": 4,
   "id": "995dad2b-c670-4ac6-b095-9bab06498e38",
   "metadata": {},
   "outputs": [
    {
     "data": {
      "text/plain": [
       "carat      0\n",
       "cut        0\n",
       "color      0\n",
       "clarity    0\n",
       "depth      0\n",
       "table      0\n",
       "price      0\n",
       "'x'        0\n",
       "'y'        0\n",
       "'z'        0\n",
       "dtype: int64"
      ]
     },
     "execution_count": 4,
     "metadata": {},
     "output_type": "execute_result"
    }
   ],
   "source": [
    "#mengecek nilai null\n",
    "df.isnull().sum()"
   ]
  },
  {
   "cell_type": "markdown",
   "id": "6856acd5-c55c-4112-ae5f-7711d63fc927",
   "metadata": {},
   "source": [
    "### Membagi Dataset Menjadi Training Set Dan Testing Set"
   ]
  },
  {
   "cell_type": "code",
   "execution_count": 7,
   "id": "5296a96d-31aa-4393-a97c-3a8926bb637a",
   "metadata": {},
   "outputs": [],
   "source": [
    "# Load dataset (ganti dengan lokasi file CSV Anda jika perlu)\n",
    "df = pd.read_csv('diamonds.csv')\n"
   ]
  },
  {
   "cell_type": "code",
   "execution_count": 8,
   "id": "d67e2973-abaa-4e6b-b3e2-352b103ac307",
   "metadata": {},
   "outputs": [],
   "source": [
    "# Pisahkan fitur (X) dan target (y)\n",
    "X = df.drop('price', axis=1)  # X adalah semua kolom kecuali 'price'\n",
    "y = df['price']  # y adalah kolom 'price'"
   ]
  },
  {
   "cell_type": "code",
   "execution_count": 9,
   "id": "9967f3ee-0a66-4dea-8dc6-c34cb92534d0",
   "metadata": {},
   "outputs": [],
   "source": [
    "# Bagi dataset menjadi training set dan testing set (70:30)\n",
    "X_train, X_test, y_train, y_test = train_test_split(X, y, test_size=0.3, random_state=42)"
   ]
  },
  {
   "cell_type": "markdown",
   "id": "3f9c3cc7-8691-4bf3-874f-c74781ecd9b3",
   "metadata": {},
   "source": [
    "Proporsi pemisahan training set dan testing set ditentukan oleh test_size, di sini diatur menjadi 0.3 untuk membaginya menjadi 70% training set dan 30% testing set."
   ]
  },
  {
   "cell_type": "markdown",
   "id": "be3b5ee6-a18a-498b-a3c3-383c0f732b4f",
   "metadata": {},
   "source": [
    "## Memeriksa dataset yang telah bagi menjadi training set dan testing set."
   ]
  },
  {
   "cell_type": "markdown",
   "id": "0e6c722d-ff60-4117-bb5d-9b4ef16e89f8",
   "metadata": {},
   "source": [
    "Melihat Dimensi Data :"
   ]
  },
  {
   "cell_type": "code",
   "execution_count": 10,
   "id": "d3275ce8-2bdf-41c8-986a-721b1611c993",
   "metadata": {},
   "outputs": [
    {
     "name": "stdout",
     "output_type": "stream",
     "text": [
      "Dimensi Training Set: (37758, 9)\n",
      "Dimensi Testing Set: (16182, 9)\n"
     ]
    }
   ],
   "source": [
    "# Ini akan memberi Anda informasi tentang berapa banyak data yang ada di setiap set.\n",
    "print(\"Dimensi Training Set:\", X_train.shape)\n",
    "print(\"Dimensi Testing Set:\", X_test.shape)"
   ]
  },
  {
   "cell_type": "markdown",
   "id": "e1a0203c-d7a3-45a9-9586-9e1c49d41bed",
   "metadata": {},
   "source": [
    "Melihat Sampel Data"
   ]
  },
  {
   "cell_type": "code",
   "execution_count": 12,
   "id": "9d8cc0e2-f1ce-4c8b-9499-cf9ebf6fd9c4",
   "metadata": {},
   "outputs": [
    {
     "name": "stdout",
     "output_type": "stream",
     "text": [
      "Contoh Data Training Set:\n",
      "        carat       cut color  clarity  depth  table   'x'   'y'   'z'\n",
      "19497   1.21  b'Ideal'  b'H'  b'VVS2'   61.3   57.0  6.92  6.87  4.23\n",
      "31229   0.31  b'Ideal'  b'E'   b'VS2'   62.0   56.0  4.38  4.36  2.71\n",
      "22311   1.21  b'Ideal'  b'E'   b'VS1'   62.4   57.0  6.75  6.83  4.24\n",
      "278     0.81  b'Ideal'  b'F'   b'SI2'   62.6   55.0  5.92  5.96  3.72\n",
      "6646    0.79  b'Ideal'  b'I'  b'VVS2'   61.7   56.0  5.94  5.95  3.67\n",
      "Contoh Data Testing Set:\n",
      "        carat           cut color  clarity  depth  table   'x'   'y'   'z'\n",
      "1388    0.24      b'Ideal'  b'G'  b'VVS1'   62.1   56.0  3.97  4.00  2.47\n",
      "50052   0.58  b'Very Good'  b'F'  b'VVS2'   60.0   57.0  5.44  5.42  3.26\n",
      "41645   0.40      b'Ideal'  b'E'  b'VVS2'   62.1   55.0  4.76  4.74  2.95\n",
      "42377   0.43    b'Premium'  b'E'  b'VVS2'   60.8   57.0  4.92  4.89  2.98\n",
      "17244   1.55      b'Ideal'  b'E'   b'SI2'   62.3   55.0  7.44  7.37  4.61\n"
     ]
    }
   ],
   "source": [
    "# Ini akan menunjukkan contoh-contoh data yang ada di setiap set.\n",
    "print(\"Contoh Data Training Set:\\n\", X_train.head())\n",
    "print(\"Contoh Data Testing Set:\\n\", X_test.head())"
   ]
  },
  {
   "cell_type": "markdown",
   "id": "0d9a11c1-adab-45eb-8d80-cbb27a23ebfb",
   "metadata": {},
   "source": [
    "Statistik Deskriptif :"
   ]
  },
  {
   "cell_type": "code",
   "execution_count": 13,
   "id": "55c008e7-cb45-4b22-8579-f7400ec1375f",
   "metadata": {},
   "outputs": [
    {
     "name": "stdout",
     "output_type": "stream",
     "text": [
      "Statistik Deskriptif Training Set:\n",
      "               carat         depth         table           'x'           'y'  \\\n",
      "count  37758.000000  37758.000000  37758.000000  37758.000000  37758.000000   \n",
      "mean       0.799763     61.744923     57.461129      5.735377      5.738825   \n",
      "std        0.475556      1.428630      2.226637      1.122262      1.146605   \n",
      "min        0.200000     43.000000     43.000000      0.000000      0.000000   \n",
      "25%        0.400000     61.000000     56.000000      4.720000      4.730000   \n",
      "50%        0.700000     61.800000     57.000000      5.700000      5.710000   \n",
      "75%        1.040000     62.500000     59.000000      6.540000      6.540000   \n",
      "max        5.010000     79.000000     95.000000     10.740000     58.900000   \n",
      "\n",
      "                'z'  \n",
      "count  37758.000000  \n",
      "mean       3.541152  \n",
      "std        0.711444  \n",
      "min        0.000000  \n",
      "25%        2.910000  \n",
      "50%        3.530000  \n",
      "75%        4.040000  \n",
      "max       31.800000  \n",
      "Statistik Deskriptif Testing Set:\n",
      "               carat         depth         table           'x'           'y'  \\\n",
      "count  16182.000000  16182.000000  16182.000000  16182.000000  16182.000000   \n",
      "mean       0.793686     61.759863     57.447979      5.721311      5.724495   \n",
      "std        0.470375      1.441881      2.252752      1.120562      1.131607   \n",
      "min        0.200000     43.000000     49.000000      0.000000      0.000000   \n",
      "25%        0.400000     61.100000     56.000000      4.700000      4.710000   \n",
      "50%        0.700000     61.900000     57.000000      5.690000      5.710000   \n",
      "75%        1.040000     62.500000     59.000000      6.530000      6.530000   \n",
      "max        4.010000     79.000000     73.000000     10.140000     31.800000   \n",
      "\n",
      "                'z'  \n",
      "count  16182.000000  \n",
      "mean       3.533092  \n",
      "std        0.692098  \n",
      "min        0.000000  \n",
      "25%        2.900000  \n",
      "50%        3.520000  \n",
      "75%        4.030000  \n",
      "max        6.310000  \n"
     ]
    }
   ],
   "source": [
    "# Memeriksa apakah fitur-fitur di kedua dataset sama\n",
    "print(\"Statistik Deskriptif Training Set:\\n\", X_train.describe())\n",
    "print(\"Statistik Deskriptif Testing Set:\\n\", X_test.describe())"
   ]
  },
  {
   "cell_type": "markdown",
   "id": "c026db52-1747-4da2-a85c-a0c30b66176c",
   "metadata": {},
   "source": [
    "### Normalisasi data pada salah satu attribute menggunakan Min Max scaler (buatlah copy dataset terlebih dahulu)"
   ]
  },
  {
   "cell_type": "code",
   "execution_count": 21,
   "id": "d12527c1-6703-4eb5-bb0f-08ea45ab91e7",
   "metadata": {},
   "outputs": [],
   "source": [
    "# Load dataset (ganti dengan lokasi file CSV Anda jika perlu)\n",
    "df = pd.read_csv('diamonds.csv')"
   ]
  },
  {
   "cell_type": "code",
   "execution_count": 22,
   "id": "da0e4e4a-97ac-436a-8ba9-44f9f6f4843a",
   "metadata": {},
   "outputs": [],
   "source": [
    "# Buat salinan dataset\n",
    "df_copy = df.copy()"
   ]
  },
  {
   "cell_type": "code",
   "execution_count": 23,
   "id": "a07e0ee7-f7e4-4f82-b303-6d62339b14a6",
   "metadata": {},
   "outputs": [],
   "source": [
    "# Inisialisasi Min-Max Scaler\n",
    "scaler = MinMaxScaler()"
   ]
  },
  {
   "cell_type": "code",
   "execution_count": 24,
   "id": "dc9710ff-1273-4858-a85a-1769022db6b2",
   "metadata": {},
   "outputs": [],
   "source": [
    "# Tentukan atribut yang akan dinormalisasi (contoh: 'carat')\n",
    "attribute_to_normalize = 'carat'"
   ]
  },
  {
   "cell_type": "code",
   "execution_count": 25,
   "id": "dcc485c8-8ad4-4e3f-8cf1-7ae4f3c353e2",
   "metadata": {},
   "outputs": [],
   "source": [
    "# Lakukan normalisasi pada atribut tersebut\n",
    "df_copy[attribute_to_normalize] = scaler.fit_transform(df_copy[[attribute_to_normalize]])"
   ]
  },
  {
   "cell_type": "code",
   "execution_count": 38,
   "id": "9bf1a15a-6c53-4fd4-b86f-72d642bc27a0",
   "metadata": {},
   "outputs": [
    {
     "name": "stdout",
     "output_type": "stream",
     "text": [
      "      carat         cut color clarity  depth  table  price   'x'   'y'   'z'\n",
      "0 -1.198168    b'Ideal'  b'E'  b'SI2'   61.5   55.0  326.0  3.95  3.98  2.43\n",
      "1 -1.240361  b'Premium'  b'E'  b'SI1'   59.8   61.0  326.0  3.89  3.84  2.31\n",
      "2 -1.198168     b'Good'  b'E'  b'VS1'   56.9   65.0  327.0  4.05  4.07  2.31\n",
      "3 -1.071587  b'Premium'  b'I'  b'VS2'   62.4   58.0  334.0  4.20  4.23  2.63\n",
      "4 -1.029394     b'Good'  b'J'  b'SI2'   63.3   58.0  335.0  4.34  4.35  2.75\n"
     ]
    }
   ],
   "source": [
    "# Melihat hasilnya dengan mencetak beberapa baris pertama dataset:\n",
    "print(df_copy.head())\n"
   ]
  },
  {
   "cell_type": "code",
   "execution_count": 39,
   "id": "34ec4678-314a-49e4-a9f9-8d9510c3a1d8",
   "metadata": {},
   "outputs": [],
   "source": [
    "# Simpan salinan dataset yang telah dinormalisasi ke file CSV jika diperlukan\n",
    "df_copy.to_csv('diamonds_copy1.csv', index=False)"
   ]
  },
  {
   "cell_type": "markdown",
   "id": "1ddc6665-a58e-4886-8f90-7f0315ed0dee",
   "metadata": {},
   "source": [
    "Standarisasi pada dataset (buatlah copy dataset terlebih dahulu)"
   ]
  },
  {
   "cell_type": "code",
   "execution_count": 31,
   "id": "c3907185-940b-4b60-ab46-812abc359728",
   "metadata": {},
   "outputs": [],
   "source": [
    "# Load dataset (ganti dengan lokasi file CSV Anda jika perlu)\n",
    "df = pd.read_csv('diamonds.csv')"
   ]
  },
  {
   "cell_type": "code",
   "execution_count": 32,
   "id": "652dd6e0-9488-4773-b956-433310126a92",
   "metadata": {},
   "outputs": [],
   "source": [
    "# Buat salinan dataset\n",
    "df_copy = df.copy()"
   ]
  },
  {
   "cell_type": "code",
   "execution_count": 33,
   "id": "39b232aa-67ce-4d02-941f-3c978db9a4be",
   "metadata": {},
   "outputs": [],
   "source": [
    "# Inisialisasi Standard Scaler\n",
    "scaler = StandardScaler()"
   ]
  },
  {
   "cell_type": "code",
   "execution_count": 35,
   "id": "fc2de2e9-3cf6-461b-8ddd-2d02a637b4d6",
   "metadata": {},
   "outputs": [],
   "source": [
    "# Tentukan atribut yang akan distandarisasi (contoh: 'carat')\n",
    "attribute_to_standardize = 'carat'"
   ]
  },
  {
   "cell_type": "code",
   "execution_count": 36,
   "id": "24805ee6-1e6a-4bf7-83df-45ae84582ab3",
   "metadata": {},
   "outputs": [],
   "source": [
    "# Lakukan standarisasi pada atribut tersebut\n",
    "df_copy[attribute_to_standardize] = scaler.fit_transform(df_copy[[attribute_to_standardize]])"
   ]
  },
  {
   "cell_type": "code",
   "execution_count": 37,
   "id": "76630413-331c-4faf-a9b2-538839944e3c",
   "metadata": {},
   "outputs": [
    {
     "name": "stdout",
     "output_type": "stream",
     "text": [
      "      carat         cut color clarity  depth  table  price   'x'   'y'   'z'\n",
      "0 -1.198168    b'Ideal'  b'E'  b'SI2'   61.5   55.0  326.0  3.95  3.98  2.43\n",
      "1 -1.240361  b'Premium'  b'E'  b'SI1'   59.8   61.0  326.0  3.89  3.84  2.31\n",
      "2 -1.198168     b'Good'  b'E'  b'VS1'   56.9   65.0  327.0  4.05  4.07  2.31\n",
      "3 -1.071587  b'Premium'  b'I'  b'VS2'   62.4   58.0  334.0  4.20  4.23  2.63\n",
      "4 -1.029394     b'Good'  b'J'  b'SI2'   63.3   58.0  335.0  4.34  4.35  2.75\n"
     ]
    }
   ],
   "source": [
    "# Sekarang, 'carat' telah distandarisasi dalam salinan dataset df_copy.\n",
    "# Anda dapat melihat hasilnya dengan mencetak beberapa baris pertama dataset:\n",
    "print(df_copy.head())"
   ]
  },
  {
   "cell_type": "code",
   "execution_count": 40,
   "id": "ecfaa6b4-5adc-4645-9da2-375efec5801d",
   "metadata": {},
   "outputs": [],
   "source": [
    "# Simpan salinan dataset yang telah distandarisasi ke file CSV jika diperlukan\n",
    "df_copy.to_csv('diamonds_copy2.csv', index=False)"
   ]
  },
  {
   "cell_type": "markdown",
   "id": "eb7eb2f4-d086-4550-8e6b-2584293f8729",
   "metadata": {},
   "source": [
    "### Data Cleaning pada data dengan nilai null."
   ]
  },
  {
   "cell_type": "code",
   "execution_count": 42,
   "id": "f3c48b15-452a-4deb-bc06-bae774b6a9a9",
   "metadata": {},
   "outputs": [
    {
     "data": {
      "text/plain": [
       "carat      0\n",
       "cut        0\n",
       "color      0\n",
       "clarity    0\n",
       "depth      0\n",
       "table      0\n",
       "price      0\n",
       "'x'        0\n",
       "'y'        0\n",
       "'z'        0\n",
       "dtype: int64"
      ]
     },
     "execution_count": 42,
     "metadata": {},
     "output_type": "execute_result"
    }
   ],
   "source": [
    "# Mengecek data null\n",
    "df.isna().sum() "
   ]
  },
  {
   "cell_type": "markdown",
   "id": "4a1a6920-6846-4edb-9e7a-52b6285b8c79",
   "metadata": {},
   "source": [
    "Karena tidak ada data yang bernilai null maka akan menambah nilai null terlebih dahulu.a"
   ]
  },
  {
   "cell_type": "code",
   "execution_count": 83,
   "id": "7f406bfc-0459-4333-9174-f53411b70218",
   "metadata": {},
   "outputs": [],
   "source": [
    "df = pd.read_csv('diamonds.csv')"
   ]
  },
  {
   "cell_type": "code",
   "execution_count": 84,
   "id": "66e3a480-a5ad-471d-a818-71486debe949",
   "metadata": {},
   "outputs": [],
   "source": [
    "# Tambahkan beberapa nilai null ke dataset (contoh: pada kolom 'carat' dan 'color')\n",
    "df.loc[df.sample(frac=0.1).index, 'carat'] = np.nan\n",
    "df.loc[df.sample(frac=0.1).index, 'color'] = np.nan"
   ]
  },
  {
   "cell_type": "code",
   "execution_count": 85,
   "id": "aa6006d0-55ae-4933-926e-dbe57c50df2d",
   "metadata": {},
   "outputs": [
    {
     "data": {
      "text/plain": [
       "carat      5394\n",
       "cut           0\n",
       "color      5394\n",
       "clarity       0\n",
       "depth         0\n",
       "table         0\n",
       "price         0\n",
       "'x'           0\n",
       "'y'           0\n",
       "'z'           0\n",
       "dtype: int64"
      ]
     },
     "execution_count": 85,
     "metadata": {},
     "output_type": "execute_result"
    }
   ],
   "source": [
    "# Mengecek data null\n",
    "df.isna().sum() "
   ]
  },
  {
   "cell_type": "markdown",
   "id": "4da440ea-8ae8-4962-badc-3ef502b7dc5f",
   "metadata": {},
   "source": [
    "Ganti nilai null sesuai ketentuan. (bilangan bulat : median/modus, bilangan desimal : mean, tulisan : modus) menggunakan strategi 3 nilai."
   ]
  },
  {
   "cell_type": "code",
   "execution_count": 86,
   "id": "d1c3dfec-10f1-43b0-856e-662cb9d1a3c1",
   "metadata": {},
   "outputs": [],
   "source": [
    "# Fungsi untuk mengganti nilai null dengan strategi 3 nilai\n",
    "def replace_null_with_3_values(column):\n",
    "    # Jika kolom memiliki tipe data numerik (int atau float)\n",
    "    if pd.api.types.is_numeric_dtype(column):\n",
    "        median_value = column.median()\n",
    "        mean_value = column.mean()\n",
    "        mode_value = column.mode().values[0]\n",
    "        column.fillna({'median': median_value, 'mean': mean_value, 'mode': mode_value}, inplace=True)\n",
    "    # Jika kolom memiliki tipe data string\n",
    "    elif pd.api.types.is_string_dtype(column):\n",
    "        mode_value = mode(column)\n",
    "        column.fillna(mode_value, inplace=True)\n",
    "    return column"
   ]
  },
  {
   "cell_type": "code",
   "execution_count": 87,
   "id": "a001f14a-4246-4d54-9b39-89d80f28c645",
   "metadata": {},
   "outputs": [],
   "source": [
    "# Panggil fungsi untuk melakukan penggantian nilai null\n",
    "df = replace_null_values(df)"
   ]
  },
  {
   "cell_type": "markdown",
   "id": "2bb4e975-ca5a-4c01-b0b2-de7c510703db",
   "metadata": {},
   "source": [
    "Mengecek kembali data setelah cleaning dilakukan"
   ]
  },
  {
   "cell_type": "code",
   "execution_count": 88,
   "id": "8fbf005a-9ef8-4393-b46e-100cf138908f",
   "metadata": {},
   "outputs": [
    {
     "data": {
      "text/plain": [
       "carat      0\n",
       "cut        0\n",
       "color      0\n",
       "clarity    0\n",
       "depth      0\n",
       "table      0\n",
       "price      0\n",
       "'x'        0\n",
       "'y'        0\n",
       "'z'        0\n",
       "dtype: int64"
      ]
     },
     "execution_count": 88,
     "metadata": {},
     "output_type": "execute_result"
    }
   ],
   "source": [
    "df.isna().sum()"
   ]
  },
  {
   "cell_type": "markdown",
   "id": "9a597cf7-18cd-4515-95e8-12678d88936b",
   "metadata": {},
   "source": [
    "### Data cleaning pada data dengan nilai duplikat. (Jika tidak ada nilai duplikat pada dataset, maka buatlah menjadi ada)"
   ]
  },
  {
   "cell_type": "code",
   "execution_count": 58,
   "id": "d0b467ae-826f-4b09-860a-4d4baef2ca17",
   "metadata": {},
   "outputs": [
    {
     "data": {
      "text/plain": [
       "0        False\n",
       "1        False\n",
       "2        False\n",
       "3        False\n",
       "4        False\n",
       "         ...  \n",
       "53935    False\n",
       "53936    False\n",
       "53937    False\n",
       "53938    False\n",
       "53939    False\n",
       "Length: 53847, dtype: bool"
      ]
     },
     "execution_count": 58,
     "metadata": {},
     "output_type": "execute_result"
    }
   ],
   "source": [
    "df.duplicated()"
   ]
  },
  {
   "cell_type": "code",
   "execution_count": 111,
   "id": "8f3e2bef-b908-457f-895d-dc58e8c15f20",
   "metadata": {},
   "outputs": [],
   "source": [
    "# Tambahkan beberapa nilai duplikat ke dataset (contoh: duplikasi beberapa baris)\n",
    "df = pd.concat([df, df.sample(n=3, random_state=42)])"
   ]
  },
  {
   "cell_type": "code",
   "execution_count": 112,
   "id": "b33f94fd-87a2-4d3f-9901-65ed42dd8990",
   "metadata": {},
   "outputs": [
    {
     "data": {
      "text/plain": [
       "0        False\n",
       "1        False\n",
       "2        False\n",
       "3        False\n",
       "4        False\n",
       "         ...  \n",
       "50052     True\n",
       "41645     True\n",
       "1388      True\n",
       "19841     True\n",
       "41647     True\n",
       "Length: 53946, dtype: bool"
      ]
     },
     "execution_count": 112,
     "metadata": {},
     "output_type": "execute_result"
    }
   ],
   "source": [
    "# Sekarang, dataset memiliki beberapa nilai duplikat.\n",
    "df.duplicated()"
   ]
  },
  {
   "cell_type": "code",
   "execution_count": 115,
   "id": "5e375949-1a67-4fa0-a9fd-bf8aa64dde92",
   "metadata": {},
   "outputs": [],
   "source": [
    "df.drop_duplicates(inplace=True)"
   ]
  },
  {
   "cell_type": "code",
   "execution_count": 116,
   "id": "16a0d0e8-f16e-46a0-8a55-ae33dc4200c5",
   "metadata": {},
   "outputs": [
    {
     "data": {
      "text/plain": [
       "0        False\n",
       "1        False\n",
       "2        False\n",
       "3        False\n",
       "4        False\n",
       "         ...  \n",
       "53935    False\n",
       "53936    False\n",
       "53937    False\n",
       "53938    False\n",
       "53939    False\n",
       "Length: 53794, dtype: bool"
      ]
     },
     "execution_count": 116,
     "metadata": {},
     "output_type": "execute_result"
    }
   ],
   "source": [
    "# Sekarang, nilai duplikat telah dihapus dari dataset 'diamonds'.\n",
    "df.duplicated()"
   ]
  },
  {
   "cell_type": "markdown",
   "id": "515957aa-d72d-43f4-bc98-0b76e920921e",
   "metadata": {},
   "source": [
    "### Ganti Tipe Data Salah Satu Atributte Angka"
   ]
  },
  {
   "cell_type": "markdown",
   "id": "130d684c-262c-4c70-bd9e-392f1fea9ebb",
   "metadata": {},
   "source": [
    "Mengubah tipe data dari atribut 'price' dari float64 ke int64"
   ]
  },
  {
   "cell_type": "code",
   "execution_count": 127,
   "id": "03f9d54d-e7ba-4d89-987c-07e7d30d386a",
   "metadata": {},
   "outputs": [],
   "source": [
    "df['price'] = df['price'].astype('int64')"
   ]
  },
  {
   "cell_type": "code",
   "execution_count": 128,
   "id": "52fbd881-c1d7-46b6-83f0-0a5a67773707",
   "metadata": {},
   "outputs": [
    {
     "name": "stdout",
     "output_type": "stream",
     "text": [
      "<class 'pandas.core.frame.DataFrame'>\n",
      "Index: 53794 entries, 0 to 53939\n",
      "Data columns (total 10 columns):\n",
      " #   Column   Non-Null Count  Dtype  \n",
      "---  ------   --------------  -----  \n",
      " 0   carat    53794 non-null  float64\n",
      " 1   cut      53794 non-null  object \n",
      " 2   color    53794 non-null  object \n",
      " 3   clarity  53794 non-null  object \n",
      " 4   depth    53794 non-null  float64\n",
      " 5   table    53794 non-null  float64\n",
      " 6   price    53794 non-null  int64  \n",
      " 7   'x'      53794 non-null  float64\n",
      " 8   'y'      53794 non-null  float64\n",
      " 9   'z'      53794 non-null  float64\n",
      "dtypes: float64(6), int64(1), object(3)\n",
      "memory usage: 4.5+ MB\n"
     ]
    }
   ],
   "source": [
    "df.info()"
   ]
  },
  {
   "cell_type": "markdown",
   "id": "1fa205b8-83c9-4858-bbd8-229430ade749",
   "metadata": {},
   "source": [
    "### One Hot Encoding Pada Dataset."
   ]
  },
  {
   "cell_type": "code",
   "execution_count": 129,
   "id": "f5af8eae-900a-4f0f-93ce-4b0b36ba2dba",
   "metadata": {},
   "outputs": [
    {
     "data": {
      "text/html": [
       "<div>\n",
       "<style scoped>\n",
       "    .dataframe tbody tr th:only-of-type {\n",
       "        vertical-align: middle;\n",
       "    }\n",
       "\n",
       "    .dataframe tbody tr th {\n",
       "        vertical-align: top;\n",
       "    }\n",
       "\n",
       "    .dataframe thead th {\n",
       "        text-align: right;\n",
       "    }\n",
       "</style>\n",
       "<table border=\"1\" class=\"dataframe\">\n",
       "  <thead>\n",
       "    <tr style=\"text-align: right;\">\n",
       "      <th></th>\n",
       "      <th>carat</th>\n",
       "      <th>cut</th>\n",
       "      <th>color</th>\n",
       "      <th>clarity</th>\n",
       "      <th>depth</th>\n",
       "      <th>table</th>\n",
       "      <th>price</th>\n",
       "      <th>'x'</th>\n",
       "      <th>'y'</th>\n",
       "      <th>'z'</th>\n",
       "    </tr>\n",
       "  </thead>\n",
       "  <tbody>\n",
       "    <tr>\n",
       "      <th>0</th>\n",
       "      <td>0.23</td>\n",
       "      <td>b'Ideal'</td>\n",
       "      <td>b'E'</td>\n",
       "      <td>b'SI2'</td>\n",
       "      <td>61.5</td>\n",
       "      <td>55.0</td>\n",
       "      <td>326</td>\n",
       "      <td>3.95</td>\n",
       "      <td>3.98</td>\n",
       "      <td>2.43</td>\n",
       "    </tr>\n",
       "    <tr>\n",
       "      <th>1</th>\n",
       "      <td>0.21</td>\n",
       "      <td>b'Premium'</td>\n",
       "      <td>b'E'</td>\n",
       "      <td>b'SI1'</td>\n",
       "      <td>59.8</td>\n",
       "      <td>61.0</td>\n",
       "      <td>326</td>\n",
       "      <td>3.89</td>\n",
       "      <td>3.84</td>\n",
       "      <td>2.31</td>\n",
       "    </tr>\n",
       "    <tr>\n",
       "      <th>2</th>\n",
       "      <td>0.23</td>\n",
       "      <td>b'Good'</td>\n",
       "      <td>b'E'</td>\n",
       "      <td>b'VS1'</td>\n",
       "      <td>56.9</td>\n",
       "      <td>65.0</td>\n",
       "      <td>327</td>\n",
       "      <td>4.05</td>\n",
       "      <td>4.07</td>\n",
       "      <td>2.31</td>\n",
       "    </tr>\n",
       "    <tr>\n",
       "      <th>3</th>\n",
       "      <td>0.29</td>\n",
       "      <td>b'Premium'</td>\n",
       "      <td>b'I'</td>\n",
       "      <td>b'VS2'</td>\n",
       "      <td>62.4</td>\n",
       "      <td>58.0</td>\n",
       "      <td>334</td>\n",
       "      <td>4.20</td>\n",
       "      <td>4.23</td>\n",
       "      <td>2.63</td>\n",
       "    </tr>\n",
       "    <tr>\n",
       "      <th>4</th>\n",
       "      <td>0.31</td>\n",
       "      <td>b'Good'</td>\n",
       "      <td>b'J'</td>\n",
       "      <td>b'SI2'</td>\n",
       "      <td>63.3</td>\n",
       "      <td>58.0</td>\n",
       "      <td>335</td>\n",
       "      <td>4.34</td>\n",
       "      <td>4.35</td>\n",
       "      <td>2.75</td>\n",
       "    </tr>\n",
       "  </tbody>\n",
       "</table>\n",
       "</div>"
      ],
      "text/plain": [
       "   carat         cut color clarity  depth  table  price   'x'   'y'   'z'\n",
       "0   0.23    b'Ideal'  b'E'  b'SI2'   61.5   55.0    326  3.95  3.98  2.43\n",
       "1   0.21  b'Premium'  b'E'  b'SI1'   59.8   61.0    326  3.89  3.84  2.31\n",
       "2   0.23     b'Good'  b'E'  b'VS1'   56.9   65.0    327  4.05  4.07  2.31\n",
       "3   0.29  b'Premium'  b'I'  b'VS2'   62.4   58.0    334  4.20  4.23  2.63\n",
       "4   0.31     b'Good'  b'J'  b'SI2'   63.3   58.0    335  4.34  4.35  2.75"
      ]
     },
     "execution_count": 129,
     "metadata": {},
     "output_type": "execute_result"
    }
   ],
   "source": [
    "df.head()"
   ]
  },
  {
   "cell_type": "code",
   "execution_count": 134,
   "id": "ba055468-ddcf-433c-a8cc-2aafb89945ad",
   "metadata": {},
   "outputs": [],
   "source": [
    "# Lakukan one-hot encoding pada kolom kategorikal\n",
    "df_encoded = pd.get_dummies(df, columns=['cut', 'color', 'clarity'])"
   ]
  },
  {
   "cell_type": "markdown",
   "id": "42f27ef8-6035-4ab0-aff7-90e58c1441a9",
   "metadata": {},
   "source": [
    "One-hot encoding adalah teknik yang digunakan untuk mengubah data kategorikal menjadi representasi biner yang dapat digunakan oleh algoritma pembelajaran mesin. Sebab itu memasukkan data-data kategorikal."
   ]
  },
  {
   "cell_type": "code",
   "execution_count": 135,
   "id": "81813006-b995-46e2-9eca-a16c9e842800",
   "metadata": {},
   "outputs": [
    {
     "name": "stdout",
     "output_type": "stream",
     "text": [
      "       carat  depth  table  price   'x'   'y'   'z'  cut_b'Fair'  cut_b'Good'  \\\n",
      "0       0.23   61.5   55.0    326  3.95  3.98  2.43        False        False   \n",
      "1       0.21   59.8   61.0    326  3.89  3.84  2.31        False        False   \n",
      "2       0.23   56.9   65.0    327  4.05  4.07  2.31        False         True   \n",
      "3       0.29   62.4   58.0    334  4.20  4.23  2.63        False        False   \n",
      "4       0.31   63.3   58.0    335  4.34  4.35  2.75        False         True   \n",
      "...      ...    ...    ...    ...   ...   ...   ...          ...          ...   \n",
      "53935   0.72   60.8   57.0   2757  5.75  5.76  3.50        False        False   \n",
      "53936   0.72   63.1   55.0   2757  5.69  5.75  3.61        False         True   \n",
      "53937   0.70   62.8   60.0   2757  5.66  5.68  3.56        False        False   \n",
      "53938   0.86   61.0   58.0   2757  6.15  6.12  3.74        False        False   \n",
      "53939   0.75   62.2   55.0   2757  5.83  5.87  3.64        False        False   \n",
      "\n",
      "       cut_b'Ideal'  ...  color_b'I'  color_b'J'  clarity_b'I1'  \\\n",
      "0              True  ...       False       False          False   \n",
      "1             False  ...       False       False          False   \n",
      "2             False  ...       False       False          False   \n",
      "3             False  ...        True       False          False   \n",
      "4             False  ...       False        True          False   \n",
      "...             ...  ...         ...         ...            ...   \n",
      "53935          True  ...       False       False          False   \n",
      "53936         False  ...       False       False          False   \n",
      "53937         False  ...       False       False          False   \n",
      "53938         False  ...       False       False          False   \n",
      "53939          True  ...       False       False          False   \n",
      "\n",
      "       clarity_b'IF'  clarity_b'SI1'  clarity_b'SI2'  clarity_b'VS1'  \\\n",
      "0              False           False            True           False   \n",
      "1              False            True           False           False   \n",
      "2              False           False           False            True   \n",
      "3              False           False           False           False   \n",
      "4              False           False            True           False   \n",
      "...              ...             ...             ...             ...   \n",
      "53935          False            True           False           False   \n",
      "53936          False            True           False           False   \n",
      "53937          False            True           False           False   \n",
      "53938          False           False            True           False   \n",
      "53939          False           False            True           False   \n",
      "\n",
      "       clarity_b'VS2'  clarity_b'VVS1'  clarity_b'VVS2'  \n",
      "0               False            False            False  \n",
      "1               False            False            False  \n",
      "2               False            False            False  \n",
      "3                True            False            False  \n",
      "4               False            False            False  \n",
      "...               ...              ...              ...  \n",
      "53935           False            False            False  \n",
      "53936           False            False            False  \n",
      "53937           False            False            False  \n",
      "53938           False            False            False  \n",
      "53939           False            False            False  \n",
      "\n",
      "[53794 rows x 27 columns]\n"
     ]
    }
   ],
   "source": [
    "# Tampilkan DataFrame hasil one-hot encoding\n",
    "print(df_encoded)"
   ]
  },
  {
   "cell_type": "code",
   "execution_count": 136,
   "id": "0b3a5d30-6174-4b41-8f3b-b86bf125fa95",
   "metadata": {},
   "outputs": [],
   "source": [
    "# Lakukan one-hot encoding pada kolom yang dijadikan target'price'\n",
    "df_encoded = pd.get_dummies(df, columns=['price'])"
   ]
  },
  {
   "cell_type": "code",
   "execution_count": 137,
   "id": "d5f681c0-05c7-4f2c-8f47-b9892d7e437b",
   "metadata": {},
   "outputs": [
    {
     "name": "stdout",
     "output_type": "stream",
     "text": [
      "       carat           cut color clarity  depth  table   'x'   'y'   'z'  \\\n",
      "0       0.23      b'Ideal'  b'E'  b'SI2'   61.5   55.0  3.95  3.98  2.43   \n",
      "1       0.21    b'Premium'  b'E'  b'SI1'   59.8   61.0  3.89  3.84  2.31   \n",
      "2       0.23       b'Good'  b'E'  b'VS1'   56.9   65.0  4.05  4.07  2.31   \n",
      "3       0.29    b'Premium'  b'I'  b'VS2'   62.4   58.0  4.20  4.23  2.63   \n",
      "4       0.31       b'Good'  b'J'  b'SI2'   63.3   58.0  4.34  4.35  2.75   \n",
      "...      ...           ...   ...     ...    ...    ...   ...   ...   ...   \n",
      "53935   0.72      b'Ideal'  b'D'  b'SI1'   60.8   57.0  5.75  5.76  3.50   \n",
      "53936   0.72       b'Good'  b'D'  b'SI1'   63.1   55.0  5.69  5.75  3.61   \n",
      "53937   0.70  b'Very Good'  b'D'  b'SI1'   62.8   60.0  5.66  5.68  3.56   \n",
      "53938   0.86    b'Premium'  b'H'  b'SI2'   61.0   58.0  6.15  6.12  3.74   \n",
      "53939   0.75      b'Ideal'  b'D'  b'SI2'   62.2   55.0  5.83  5.87  3.64   \n",
      "\n",
      "       price_326  ...  price_18787  price_18788  price_18791  price_18795  \\\n",
      "0           True  ...        False        False        False        False   \n",
      "1           True  ...        False        False        False        False   \n",
      "2          False  ...        False        False        False        False   \n",
      "3          False  ...        False        False        False        False   \n",
      "4          False  ...        False        False        False        False   \n",
      "...          ...  ...          ...          ...          ...          ...   \n",
      "53935      False  ...        False        False        False        False   \n",
      "53936      False  ...        False        False        False        False   \n",
      "53937      False  ...        False        False        False        False   \n",
      "53938      False  ...        False        False        False        False   \n",
      "53939      False  ...        False        False        False        False   \n",
      "\n",
      "       price_18797  price_18803  price_18804  price_18806  price_18818  \\\n",
      "0            False        False        False        False        False   \n",
      "1            False        False        False        False        False   \n",
      "2            False        False        False        False        False   \n",
      "3            False        False        False        False        False   \n",
      "4            False        False        False        False        False   \n",
      "...            ...          ...          ...          ...          ...   \n",
      "53935        False        False        False        False        False   \n",
      "53936        False        False        False        False        False   \n",
      "53937        False        False        False        False        False   \n",
      "53938        False        False        False        False        False   \n",
      "53939        False        False        False        False        False   \n",
      "\n",
      "       price_18823  \n",
      "0            False  \n",
      "1            False  \n",
      "2            False  \n",
      "3            False  \n",
      "4            False  \n",
      "...            ...  \n",
      "53935        False  \n",
      "53936        False  \n",
      "53937        False  \n",
      "53938        False  \n",
      "53939        False  \n",
      "\n",
      "[53794 rows x 11611 columns]\n"
     ]
    }
   ],
   "source": [
    "# Tampilkan DataFrame hasil one-hot encoding\n",
    "print(df_encoded)"
   ]
  }
 ],
 "metadata": {
  "kernelspec": {
   "display_name": "Python 3 (ipykernel)",
   "language": "python",
   "name": "python3"
  },
  "language_info": {
   "codemirror_mode": {
    "name": "ipython",
    "version": 3
   },
   "file_extension": ".py",
   "mimetype": "text/x-python",
   "name": "python",
   "nbconvert_exporter": "python",
   "pygments_lexer": "ipython3",
   "version": "3.10.7"
  }
 },
 "nbformat": 4,
 "nbformat_minor": 5
}
